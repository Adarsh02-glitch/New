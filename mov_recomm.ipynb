{
 "cells": [
  {
   "cell_type": "code",
   "execution_count": 1,
   "id": "ea9143e8-0b21-4c8b-9bd4-f5365fce2cd2",
   "metadata": {},
   "outputs": [],
   "source": [
    "import pandas as pd\n",
    "\n",
    "# Load ratings & movies from .dat\n",
    "ratings = pd.read_csv('ratings.dat', sep='::', engine='python',\n",
    "                      names=['userId','movieId','rating','timestamp'])\n",
    "movies = pd.read_csv('movies.dat', sep='::', engine='python',\n",
    "                        names=['movieId','title','genres'], encoding='ISO-8859-1')\n",
    "\n",
    "# Merge\n",
    "merged_df = ratings.merge(movies, on='movieId', how='left')\n"
   ]
  },
  {
   "cell_type": "code",
   "execution_count": 2,
   "id": "4a24a67a-4510-423d-a5ff-40d75bd0594b",
   "metadata": {},
   "outputs": [
    {
     "data": {
      "text/html": [
       "<div>\n",
       "<style scoped>\n",
       "    .dataframe tbody tr th:only-of-type {\n",
       "        vertical-align: middle;\n",
       "    }\n",
       "\n",
       "    .dataframe tbody tr th {\n",
       "        vertical-align: top;\n",
       "    }\n",
       "\n",
       "    .dataframe thead th {\n",
       "        text-align: right;\n",
       "    }\n",
       "</style>\n",
       "<table border=\"1\" class=\"dataframe\">\n",
       "  <thead>\n",
       "    <tr style=\"text-align: right;\">\n",
       "      <th></th>\n",
       "      <th>userId</th>\n",
       "      <th>movieId</th>\n",
       "      <th>rating</th>\n",
       "      <th>timestamp</th>\n",
       "    </tr>\n",
       "  </thead>\n",
       "  <tbody>\n",
       "    <tr>\n",
       "      <th>0</th>\n",
       "      <td>1</td>\n",
       "      <td>1193</td>\n",
       "      <td>5</td>\n",
       "      <td>978300760</td>\n",
       "    </tr>\n",
       "    <tr>\n",
       "      <th>1</th>\n",
       "      <td>1</td>\n",
       "      <td>661</td>\n",
       "      <td>3</td>\n",
       "      <td>978302109</td>\n",
       "    </tr>\n",
       "    <tr>\n",
       "      <th>2</th>\n",
       "      <td>1</td>\n",
       "      <td>914</td>\n",
       "      <td>3</td>\n",
       "      <td>978301968</td>\n",
       "    </tr>\n",
       "    <tr>\n",
       "      <th>3</th>\n",
       "      <td>1</td>\n",
       "      <td>3408</td>\n",
       "      <td>4</td>\n",
       "      <td>978300275</td>\n",
       "    </tr>\n",
       "    <tr>\n",
       "      <th>4</th>\n",
       "      <td>1</td>\n",
       "      <td>2355</td>\n",
       "      <td>5</td>\n",
       "      <td>978824291</td>\n",
       "    </tr>\n",
       "  </tbody>\n",
       "</table>\n",
       "</div>"
      ],
      "text/plain": [
       "   userId  movieId  rating  timestamp\n",
       "0       1     1193       5  978300760\n",
       "1       1      661       3  978302109\n",
       "2       1      914       3  978301968\n",
       "3       1     3408       4  978300275\n",
       "4       1     2355       5  978824291"
      ]
     },
     "execution_count": 2,
     "metadata": {},
     "output_type": "execute_result"
    }
   ],
   "source": [
    "ratings.head()"
   ]
  },
  {
   "cell_type": "code",
   "execution_count": 3,
   "id": "72ddc5a3-6d6b-4955-98ff-57fa026ed0af",
   "metadata": {},
   "outputs": [
    {
     "data": {
      "text/html": [
       "<div>\n",
       "<style scoped>\n",
       "    .dataframe tbody tr th:only-of-type {\n",
       "        vertical-align: middle;\n",
       "    }\n",
       "\n",
       "    .dataframe tbody tr th {\n",
       "        vertical-align: top;\n",
       "    }\n",
       "\n",
       "    .dataframe thead th {\n",
       "        text-align: right;\n",
       "    }\n",
       "</style>\n",
       "<table border=\"1\" class=\"dataframe\">\n",
       "  <thead>\n",
       "    <tr style=\"text-align: right;\">\n",
       "      <th></th>\n",
       "      <th>movieId</th>\n",
       "      <th>title</th>\n",
       "      <th>genres</th>\n",
       "    </tr>\n",
       "  </thead>\n",
       "  <tbody>\n",
       "    <tr>\n",
       "      <th>0</th>\n",
       "      <td>1</td>\n",
       "      <td>Toy Story (1995)</td>\n",
       "      <td>Animation|Children's|Comedy</td>\n",
       "    </tr>\n",
       "    <tr>\n",
       "      <th>1</th>\n",
       "      <td>2</td>\n",
       "      <td>Jumanji (1995)</td>\n",
       "      <td>Adventure|Children's|Fantasy</td>\n",
       "    </tr>\n",
       "    <tr>\n",
       "      <th>2</th>\n",
       "      <td>3</td>\n",
       "      <td>Grumpier Old Men (1995)</td>\n",
       "      <td>Comedy|Romance</td>\n",
       "    </tr>\n",
       "    <tr>\n",
       "      <th>3</th>\n",
       "      <td>4</td>\n",
       "      <td>Waiting to Exhale (1995)</td>\n",
       "      <td>Comedy|Drama</td>\n",
       "    </tr>\n",
       "    <tr>\n",
       "      <th>4</th>\n",
       "      <td>5</td>\n",
       "      <td>Father of the Bride Part II (1995)</td>\n",
       "      <td>Comedy</td>\n",
       "    </tr>\n",
       "  </tbody>\n",
       "</table>\n",
       "</div>"
      ],
      "text/plain": [
       "   movieId                               title                        genres\n",
       "0        1                    Toy Story (1995)   Animation|Children's|Comedy\n",
       "1        2                      Jumanji (1995)  Adventure|Children's|Fantasy\n",
       "2        3             Grumpier Old Men (1995)                Comedy|Romance\n",
       "3        4            Waiting to Exhale (1995)                  Comedy|Drama\n",
       "4        5  Father of the Bride Part II (1995)                        Comedy"
      ]
     },
     "execution_count": 3,
     "metadata": {},
     "output_type": "execute_result"
    }
   ],
   "source": [
    "movies.head()"
   ]
  },
  {
   "cell_type": "code",
   "execution_count": 4,
   "id": "20adee8b-fa33-4bf1-88e9-51f7c6a965ed",
   "metadata": {},
   "outputs": [],
   "source": [
    "# Pivot to movies (rows) × users (cols)\n",
    "pivot = merged_df.pivot_table(index='title', columns='userId', values='rating')\n",
    "\n",
    "# Keep only reasonably popular movies (speeds things up & improves quality)\n",
    "min_ratings = 20\n",
    "popular_titles = merged_df.groupby('title').size().loc[lambda s: s>=min_ratings].index\n",
    "pivot = pivot.loc[popular_titles]\n",
    "\n",
    "# Mean-center per user; leave unrated as 0 for cosine\n",
    "user_means = pivot.mean(axis=0)\n",
    "pivot_centered = pivot.sub(user_means, axis=1).fillna(0)\n"
   ]
  },
  {
   "cell_type": "code",
   "execution_count": 5,
   "id": "402aea70-6a22-439f-800a-b6c7374cebfc",
   "metadata": {},
   "outputs": [],
   "source": [
    "from scipy.sparse import csr_matrix\n",
    "from sklearn.neighbors import NearestNeighbors\n",
    "\n",
    "X = csr_matrix(pivot_centered.values)\n",
    "knn = NearestNeighbors(metric='cosine', algorithm='brute')\n",
    "knn.fit(X)\n",
    "\n",
    "# quick helpers\n",
    "title_to_idx = {t:i for i,t in enumerate(pivot_centered.index)}\n",
    "idx_to_title = list(pivot_centered.index)\n"
   ]
  },
  {
   "cell_type": "code",
   "execution_count": 6,
   "id": "56c12a84-0b9f-43b2-ad95-73e8bcf7a939",
   "metadata": {},
   "outputs": [],
   "source": [
    "def recommend(title, top_n=10):\n",
    "    if title not in title_to_idx:\n",
    "        # simple fuzzy fallback: show close matches if exact title missing\n",
    "        import difflib\n",
    "        matches = difflib.get_close_matches(title, pivot_centered.index, n=5, cutoff=0.6)\n",
    "        raise ValueError(f\"Title not found: {title}. Did you mean: {matches}?\")\n",
    "\n",
    "    idx = title_to_idx[title]\n",
    "    distances, indices = knn.kneighbors(X[idx], n_neighbors=top_n+1)\n",
    "    rec_indices = indices.flatten()[1:]  # skip itself\n",
    "    rec_titles = [idx_to_title[i] for i in rec_indices]\n",
    "\n",
    "    # attach counts for nicer display\n",
    "    counts = merged_df.groupby('title').size()\n",
    "    out = pd.DataFrame({'title': rec_titles})\n",
    "    out['num_ratings'] = out['title'].map(counts)\n",
    "    return out.sort_values('num_ratings', ascending=False).reset_index(drop=True)\n",
    "\n",
    "# Example:\n",
    "# recommend(\"Avatar (2009)\", top_n=10)\n"
   ]
  },
  {
   "cell_type": "code",
   "execution_count": 7,
   "id": "d2e2db89-099b-4812-8ec2-c661a75a7c12",
   "metadata": {},
   "outputs": [
    {
     "data": {
      "text/html": [
       "<div>\n",
       "<style scoped>\n",
       "    .dataframe tbody tr th:only-of-type {\n",
       "        vertical-align: middle;\n",
       "    }\n",
       "\n",
       "    .dataframe tbody tr th {\n",
       "        vertical-align: top;\n",
       "    }\n",
       "\n",
       "    .dataframe thead th {\n",
       "        text-align: right;\n",
       "    }\n",
       "</style>\n",
       "<table border=\"1\" class=\"dataframe\">\n",
       "  <thead>\n",
       "    <tr style=\"text-align: right;\">\n",
       "      <th></th>\n",
       "      <th>title</th>\n",
       "      <th>num_ratings</th>\n",
       "    </tr>\n",
       "  </thead>\n",
       "  <tbody>\n",
       "    <tr>\n",
       "      <th>0</th>\n",
       "      <td>Art of War, The (2000)</td>\n",
       "      <td>144</td>\n",
       "    </tr>\n",
       "    <tr>\n",
       "      <th>1</th>\n",
       "      <td>Loser (2000)</td>\n",
       "      <td>138</td>\n",
       "    </tr>\n",
       "    <tr>\n",
       "      <th>2</th>\n",
       "      <td>Get Carter (2000)</td>\n",
       "      <td>100</td>\n",
       "    </tr>\n",
       "    <tr>\n",
       "      <th>3</th>\n",
       "      <td>Watcher, The (2000)</td>\n",
       "      <td>94</td>\n",
       "    </tr>\n",
       "    <tr>\n",
       "      <th>4</th>\n",
       "      <td>Urban Legends: Final Cut (2000)</td>\n",
       "      <td>92</td>\n",
       "    </tr>\n",
       "    <tr>\n",
       "      <th>5</th>\n",
       "      <td>Crossing Guard, The (1995)</td>\n",
       "      <td>50</td>\n",
       "    </tr>\n",
       "    <tr>\n",
       "      <th>6</th>\n",
       "      <td>Crew, The (2000)</td>\n",
       "      <td>40</td>\n",
       "    </tr>\n",
       "    <tr>\n",
       "      <th>7</th>\n",
       "      <td>Johns (1996)</td>\n",
       "      <td>26</td>\n",
       "    </tr>\n",
       "    <tr>\n",
       "      <th>8</th>\n",
       "      <td>Man of the House (1995)</td>\n",
       "      <td>24</td>\n",
       "    </tr>\n",
       "    <tr>\n",
       "      <th>9</th>\n",
       "      <td>Curdled (1996)</td>\n",
       "      <td>20</td>\n",
       "    </tr>\n",
       "  </tbody>\n",
       "</table>\n",
       "</div>"
      ],
      "text/plain": [
       "                             title  num_ratings\n",
       "0           Art of War, The (2000)          144\n",
       "1                     Loser (2000)          138\n",
       "2                Get Carter (2000)          100\n",
       "3              Watcher, The (2000)           94\n",
       "4  Urban Legends: Final Cut (2000)           92\n",
       "5       Crossing Guard, The (1995)           50\n",
       "6                 Crew, The (2000)           40\n",
       "7                     Johns (1996)           26\n",
       "8          Man of the House (1995)           24\n",
       "9                   Curdled (1996)           20"
      ]
     },
     "execution_count": 7,
     "metadata": {},
     "output_type": "execute_result"
    }
   ],
   "source": [
    "recommend('Bait (2000)', top_n=10)"
   ]
  },
  {
   "cell_type": "code",
   "execution_count": 9,
   "id": "0583fb59-9eb7-42a4-be1e-eb21b4a2963c",
   "metadata": {},
   "outputs": [],
   "source": [
    "from sklearn.feature_extraction.text import CountVectorizer\n",
    "from sklearn.metrics.pairwise import cosine_similarity\n",
    "\n",
    "movies['genres'] = movies['genres'].fillna('')\n",
    "cv = CountVectorizer(max_features=200, stop_words='english')\n",
    "count_matrix = cv.fit_transform(movies['genres'])\n",
    "content_sim = cosine_similarity(count_matrix)\n"
   ]
  },
  {
   "cell_type": "code",
   "execution_count": 10,
   "id": "12f7b39e-a921-4e3a-99a8-613c29547333",
   "metadata": {},
   "outputs": [],
   "source": [
    "user_movie_ratings = ratings.pivot(index='userId', columns='movieId', values='rating')\n",
    "user_movie_ratings = user_movie_ratings.fillna(0)"
   ]
  },
  {
   "cell_type": "code",
   "execution_count": 11,
   "id": "91f480f8-11bc-4b88-a229-a22c7c7e3f53",
   "metadata": {},
   "outputs": [],
   "source": [
    "from sklearn.metrics.pairwise import cosine_similarity\n",
    "collab_sim = cosine_similarity(user_movie_ratings.T)  # Transpose for item-item similarity"
   ]
  },
  {
   "cell_type": "code",
   "execution_count": 16,
   "id": "ccfcfc3f-3dd4-4245-a9b6-b9093fac85e6",
   "metadata": {},
   "outputs": [],
   "source": [
    "# 1. Get common movie IDs\n",
    "common_movie_ids = list(set(movies['movieId']).intersection(set(ratings['movieId'])))\n",
    "\n",
    "# 2. Filter movies dataframe\n",
    "movies = movies[movies['movieId'].isin(common_movie_ids)].reset_index(drop=True)\n",
    "\n",
    "# 3. Filter ratings pivot table\n",
    "ratings = ratings[ratings['movieId'].isin(common_movie_ids)]\n",
    "\n",
    "# 4. Recompute content_sim and collab_sim after filtering\n",
    "\n"
   ]
  },
  {
   "cell_type": "code",
   "execution_count": 17,
   "id": "a8a57d45-eb58-403d-ab1f-47593eda495a",
   "metadata": {},
   "outputs": [],
   "source": [
    "# 1. Get common movie IDs\n",
    "common_movie_ids = list(set(movies['movieId']).intersection(set(ratings['movieId'])))\n",
    "\n",
    "# 2. Filter movies dataframe\n",
    "movies = movies[movies['movieId'].isin(common_movie_ids)].reset_index(drop=True)\n",
    "\n",
    "# 3. Filter ratings pivot table\n",
    "ratings = ratings[ratings['movieId'].isin(common_movie_ids)]\n",
    "\n",
    "# 4. Recompute content_sim and collab_sim after filtering\n"
   ]
  },
  {
   "cell_type": "code",
   "execution_count": 19,
   "id": "a625e5bf-fafa-4d5f-b34a-916f2a3caa52",
   "metadata": {},
   "outputs": [],
   "source": [
    "from sklearn.feature_extraction.text import CountVectorizer\n",
    "from sklearn.metrics.pairwise import cosine_similarity\n",
    "\n",
    "# Convert genres into bag-of-words\n",
    "movies['genres'] = movies['genres'].fillna('')\n",
    "cv = CountVectorizer(max_features=200, stop_words='english')\n",
    "count_matrix = cv.fit_transform(movies['genres'])\n",
    "\n",
    "# Content similarity matrix\n",
    "content_sim = cosine_similarity(count_matrix)\n"
   ]
  },
  {
   "cell_type": "code",
   "execution_count": 20,
   "id": "3c74dc3b-ebb2-4860-ba28-465bbbe682be",
   "metadata": {},
   "outputs": [],
   "source": [
    "import pandas as pd\n",
    "from sklearn.metrics.pairwise import cosine_similarity\n",
    "\n",
    "# Create user-movie rating matrix\n",
    "user_movie_ratings = ratings.pivot(index='userId', columns='movieId', values='rating')\n",
    "user_movie_ratings = user_movie_ratings.fillna(0)\n",
    "\n",
    "# Item-Item similarity (transpose so movies are rows)\n",
    "collab_sim = cosine_similarity(user_movie_ratings.T)\n"
   ]
  },
  {
   "cell_type": "code",
   "execution_count": 21,
   "id": "bb773aa8-bea7-4531-9e8e-c0749c159350",
   "metadata": {},
   "outputs": [],
   "source": [
    "# Normalize\n",
    "content_sim_norm = content_sim / content_sim.max()\n",
    "collab_sim_norm = collab_sim / collab_sim.max()\n",
    "\n",
    "# Hybrid similarity (50-50 weight, can tune later)\n",
    "hybrid_sim = 0.5 * content_sim_norm + 0.5 * collab_sim_norm\n"
   ]
  },
  {
   "cell_type": "code",
   "execution_count": 22,
   "id": "66b5207c-a9d6-4060-8417-d22d9bf13a2a",
   "metadata": {},
   "outputs": [
    {
     "name": "stdout",
     "output_type": "stream",
     "text": [
      "['Toy Story 2 (1999)', \"Bug's Life, A (1998)\", 'Aladdin (1992)', 'Chicken Run (2000)', 'American Tail, An (1986)']\n"
     ]
    }
   ],
   "source": [
    "def hybrid_recommend(movie_title, top_n=10):\n",
    "    try:\n",
    "        idx = movies[movies['title'] == movie_title].index[0]\n",
    "    except IndexError:\n",
    "        return f\"Movie '{movie_title}' not found in dataset.\"\n",
    "    \n",
    "    sim_scores = list(enumerate(hybrid_sim[idx]))\n",
    "    sim_scores = sorted(sim_scores, key=lambda x: x[1], reverse=True)\n",
    "    top_movies = [movies.iloc[i[0]]['title'] for i in sim_scores[1:top_n+1]]\n",
    "    return top_movies\n",
    "\n",
    "# Example\n",
    "print(hybrid_recommend(\"Toy Story (1995)\", top_n=5))\n"
   ]
  },
  {
   "cell_type": "code",
   "execution_count": null,
   "id": "05161776-c50f-4990-bafa-7a9cfce4ceb1",
   "metadata": {},
   "outputs": [],
   "source": []
  }
 ],
 "metadata": {
  "kernelspec": {
   "display_name": "Python [conda env:base] *",
   "language": "python",
   "name": "conda-base-py"
  },
  "language_info": {
   "codemirror_mode": {
    "name": "ipython",
    "version": 3
   },
   "file_extension": ".py",
   "mimetype": "text/x-python",
   "name": "python",
   "nbconvert_exporter": "python",
   "pygments_lexer": "ipython3",
   "version": "3.12.7"
  }
 },
 "nbformat": 4,
 "nbformat_minor": 5
}
